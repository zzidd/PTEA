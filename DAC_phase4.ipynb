{
 "cells": [
  {
   "cell_type": "code",
   "execution_count": 1,
   "id": "b38624cc",
   "metadata": {
    "_cell_guid": "b1076dfc-b9ad-4769-8c92-a6c4dae69d19",
    "_uuid": "8f2839f25d086af736a60e9eeb907d3b93b6e0e5",
    "execution": {
     "iopub.execute_input": "2023-11-01T18:34:15.638479Z",
     "iopub.status.busy": "2023-11-01T18:34:15.637673Z",
     "iopub.status.idle": "2023-11-01T18:34:16.084712Z",
     "shell.execute_reply": "2023-11-01T18:34:16.083580Z"
    },
    "papermill": {
     "duration": 0.454759,
     "end_time": "2023-11-01T18:34:16.087670",
     "exception": false,
     "start_time": "2023-11-01T18:34:15.632911",
     "status": "completed"
    },
    "tags": []
   },
   "outputs": [
    {
     "name": "stdout",
     "output_type": "stream",
     "text": [
      "/kaggle/input/public-transport-efficiency-analysis/cleaned_data.csv\n"
     ]
    }
   ],
   "source": [
    "# This Python 3 environment comes with many helpful analytics libraries installed\n",
    "# It is defined by the kaggle/python Docker image: https://github.com/kaggle/docker-python\n",
    "# For example, here's several helpful packages to load\n",
    "\n",
    "import numpy as np # linear algebra\n",
    "import pandas as pd # data processing, CSV file I/O (e.g. pd.read_csv)\n",
    "\n",
    "# Input data files are available in the read-only \"../input/\" directory\n",
    "# For example, running this (by clicking run or pressing Shift+Enter) will list all files under the input directory\n",
    "\n",
    "import os\n",
    "for dirname, _, filenames in os.walk('/kaggle/input'):\n",
    "    for filename in filenames:\n",
    "        print(os.path.join(dirname, filename))\n",
    "\n",
    "# You can write up to 20GB to the current directory (/kaggle/working/) that gets preserved as output when you create a version using \"Save & Run All\" \n",
    "# You can also write temporary files to /kaggle/temp/, but they won't be saved outside of the current session"
   ]
  },
  {
   "cell_type": "code",
   "execution_count": 2,
   "id": "d5b0c5d4",
   "metadata": {
    "execution": {
     "iopub.execute_input": "2023-11-01T18:34:16.096947Z",
     "iopub.status.busy": "2023-11-01T18:34:16.096047Z",
     "iopub.status.idle": "2023-11-01T18:34:32.012708Z",
     "shell.execute_reply": "2023-11-01T18:34:32.011250Z"
    },
    "papermill": {
     "duration": 15.92549,
     "end_time": "2023-11-01T18:34:32.015792",
     "exception": false,
     "start_time": "2023-11-01T18:34:16.090302",
     "status": "completed"
    },
    "tags": []
   },
   "outputs": [
    {
     "name": "stdout",
     "output_type": "stream",
     "text": [
      "Collecting vaderSentiment\r\n",
      "  Downloading vaderSentiment-3.3.2-py2.py3-none-any.whl (125 kB)\r\n",
      "\u001b[2K     \u001b[90m━━━━━━━━━━━━━━━━━━━━━━━━━━━━━━━━━━━━━━━\u001b[0m \u001b[32m126.0/126.0 kB\u001b[0m \u001b[31m3.8 MB/s\u001b[0m eta \u001b[36m0:00:00\u001b[0m\r\n",
      "\u001b[?25hRequirement already satisfied: requests in /opt/conda/lib/python3.10/site-packages (from vaderSentiment) (2.31.0)\r\n",
      "Requirement already satisfied: charset-normalizer<4,>=2 in /opt/conda/lib/python3.10/site-packages (from requests->vaderSentiment) (3.1.0)\r\n",
      "Requirement already satisfied: idna<4,>=2.5 in /opt/conda/lib/python3.10/site-packages (from requests->vaderSentiment) (3.4)\r\n",
      "Requirement already satisfied: urllib3<3,>=1.21.1 in /opt/conda/lib/python3.10/site-packages (from requests->vaderSentiment) (1.26.15)\r\n",
      "Requirement already satisfied: certifi>=2017.4.17 in /opt/conda/lib/python3.10/site-packages (from requests->vaderSentiment) (2023.7.22)\r\n",
      "Installing collected packages: vaderSentiment\r\n",
      "Successfully installed vaderSentiment-3.3.2\r\n"
     ]
    }
   ],
   "source": [
    "!pip install vaderSentiment\n"
   ]
  },
  {
   "cell_type": "code",
   "execution_count": 3,
   "id": "474cbfe3",
   "metadata": {
    "execution": {
     "iopub.execute_input": "2023-11-01T18:34:32.023787Z",
     "iopub.status.busy": "2023-11-01T18:34:32.023374Z",
     "iopub.status.idle": "2023-11-01T18:39:15.342906Z",
     "shell.execute_reply": "2023-11-01T18:39:15.341620Z"
    },
    "papermill": {
     "duration": 283.327325,
     "end_time": "2023-11-01T18:39:15.346104",
     "exception": false,
     "start_time": "2023-11-01T18:34:32.018779",
     "status": "completed"
    },
    "tags": []
   },
   "outputs": [
    {
     "name": "stdout",
     "output_type": "stream",
     "text": [
      "[nltk_data] Downloading package vader_lexicon to\n",
      "[nltk_data]     /usr/share/nltk_data...\n",
      "[nltk_data]   Package vader_lexicon is already up-to-date!\n"
     ]
    }
   ],
   "source": [
    "import pandas as pd\n",
    "from vaderSentiment.vaderSentiment import SentimentIntensityAnalyzer\n",
    "import nltk\n",
    "\n",
    "# Download the VADER lexicon if not already downloaded\n",
    "nltk.download('vader_lexicon')\n",
    "\n",
    "# Load your dataset\n",
    "datas = pd.read_csv('/kaggle/input/public-transport-efficiency-analysis/cleaned_data.csv', low_memory=False)  # Replace with the path to your dataset\n",
    "\n",
    "# Initialize the VADER sentiment analyzer\n",
    "analyzer = SentimentIntensityAnalyzer()\n",
    "\n",
    "# Function to get sentiment scores\n",
    "def get_sentiment_scores(text):\n",
    "    senti = analyzer.polarity_scores(text)\n",
    "    return senti\n",
    "\n",
    "# Apply sentiment analysis to the 'StopName' column\n",
    "datas['Sentiment'] = datas['StopName'].apply(get_sentiment_scores)  # Assuming 'StopName' contains the text for sentiment analysis\n",
    "\n",
    "# Extract individual sentiment scores if needed\n",
    "datas['Positive'] = datas['Sentiment'].apply(lambda x: x['pos'])\n",
    "datas['Neutral'] = datas['Sentiment'].apply(lambda x: x['neu'])\n",
    "datas['Negative'] = datas['Sentiment'].apply(lambda x: x['neg'])\n",
    "\n",
    "# Determine the overall sentiment\n",
    "datas['OverallSentiment'] = datas['Sentiment'].apply(lambda x: 'Positive' if x['compound'] > 0 else ('Negative' if x['compound'] < 0 else 'Neutral'))\n",
    "\n",
    "# Print the results or save to a new CSV file\n",
    "# print(datas[['StopName', 'OverallSentiment']])\n",
    "\n",
    "datas.to_csv('cleaned_data_phase4.csv', index=False)\n"
   ]
  }
 ],
 "metadata": {
  "kernelspec": {
   "display_name": "Python 3",
   "language": "python",
   "name": "python3"
  },
  "language_info": {
   "codemirror_mode": {
    "name": "ipython",
    "version": 3
   },
   "file_extension": ".py",
   "mimetype": "text/x-python",
   "name": "python",
   "nbconvert_exporter": "python",
   "pygments_lexer": "ipython3",
   "version": "3.10.12"
  },
  "papermill": {
   "default_parameters": {},
   "duration": 305.19895,
   "end_time": "2023-11-01T18:39:16.978184",
   "environment_variables": {},
   "exception": null,
   "input_path": "__notebook__.ipynb",
   "output_path": "__notebook__.ipynb",
   "parameters": {},
   "start_time": "2023-11-01T18:34:11.779234",
   "version": "2.4.0"
  }
 },
 "nbformat": 4,
 "nbformat_minor": 5
}
